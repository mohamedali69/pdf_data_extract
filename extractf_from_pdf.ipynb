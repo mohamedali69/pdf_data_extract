{
 "cells": [
  {
   "cell_type": "code",
   "execution_count": 120,
   "metadata": {},
   "outputs": [],
   "source": [
    "import fitz"
   ]
  },
  {
   "cell_type": "code",
   "execution_count": 121,
   "metadata": {},
   "outputs": [],
   "source": [
    "my_path = './Contract.pdf'"
   ]
  },
  {
   "cell_type": "code",
   "execution_count": 122,
   "metadata": {},
   "outputs": [],
   "source": [
    "doc = fitz.open(my_path)"
   ]
  },
  {
   "cell_type": "code",
   "execution_count": 123,
   "metadata": {},
   "outputs": [
    {
     "data": {
      "text/plain": [
       "{'format': 'PDF 1.6',\n",
       " 'title': 'FIC santé_add',\n",
       " 'author': 'natacha lerouge',\n",
       " 'subject': '',\n",
       " 'keywords': '',\n",
       " 'creator': 'Microsoft® Word pour Microsoft\\xa0365',\n",
       " 'producer': 'GPL Ghostscript 10.00.0; modified using SignServer',\n",
       " 'creationDate': \"D:20240209162649Z00'00'\",\n",
       " 'modDate': 'D:20240209170043Z',\n",
       " 'trapped': '',\n",
       " 'encryption': None}"
      ]
     },
     "execution_count": 123,
     "metadata": {},
     "output_type": "execute_result"
    }
   ],
   "source": [
    "doc.metadata"
   ]
  },
  {
   "cell_type": "code",
   "execution_count": 124,
   "metadata": {},
   "outputs": [
    {
     "data": {
      "text/plain": [
       "[]"
      ]
     },
     "execution_count": 124,
     "metadata": {},
     "output_type": "execute_result"
    }
   ],
   "source": [
    "doc.get_toc()"
   ]
  },
  {
   "cell_type": "code",
   "execution_count": 125,
   "metadata": {},
   "outputs": [
    {
     "data": {
      "text/plain": [
       "12"
      ]
     },
     "execution_count": 125,
     "metadata": {},
     "output_type": "execute_result"
    }
   ],
   "source": [
    "doc.page_count"
   ]
  },
  {
   "cell_type": "code",
   "execution_count": 126,
   "metadata": {},
   "outputs": [
    {
     "data": {
      "text/plain": [
       "\"AS SOLUTIONS - Société par Ac}ons Simplioée (SAS) / capital : 2 159 000¬ RCS Paris 908 499 056 NAF 6622Z APE 6622Z 3 cour}er d9assurances ORIAS 22000804  Entreprise régie par le Code des assurances et soumise au contrôle de l9ACPR 4 Place de Budapest 3 CS 92459 3 75436 paris Cedex 09.  RC Professionnelle et garan}e onancière conformes aux ar}cles L512-6 et L512-7 du Code des assurances        Demande d'adhésion        Effet le                       N°    Société Anonyme - Entreprise régie par le Code des assurances 3 RCS Paris n°879605350  Siège Social : 128 rue La Boé}e - 75008 Paris              Vos garanties    Votre formule                        Vos services        Alturgences        Malo         Assistance MUTUAIDE        Protec}on Juridique CFDP          Conseil    Gestion de la relation client      As Solu}ons      15 Rue Bernoulli 75008 PARIS      75008 PARIS      Contact  Contact    01 81 70 16 70      contact@as-solu}ons.fr              Gestion des prestations                        Contact                  Compte client    Moyen de communication utilisé  Adhérent            Date et lieu de naissance          Votre résidence principale        Contact                  Iden}oant Client                    15 Chemin de la croix landoz   ,  ,  Monsieur Martin Gerard 39260 MOIRANS EN MONTAGNE 01/08/2024 21/01/1945 martingege39@gmail.com yoan.lambert@prevoenkac.com À Morez ALL SANTE Niveau 1 LAMBERT LAMBERT ACHEEL ALL SANTE 1/8 France +33 0627654211 ASCAISC1000838 \""
      ]
     },
     "execution_count": 126,
     "metadata": {},
     "output_type": "execute_result"
    }
   ],
   "source": [
    "doc.load_page(0).get_text().replace('\\n', ' ')"
   ]
  }
 ],
 "metadata": {
  "kernelspec": {
   "display_name": "Python 3",
   "language": "python",
   "name": "python3"
  },
  "language_info": {
   "codemirror_mode": {
    "name": "ipython",
    "version": 3
   },
   "file_extension": ".py",
   "mimetype": "text/x-python",
   "name": "python",
   "nbconvert_exporter": "python",
   "pygments_lexer": "ipython3",
   "version": "3.11.4"
  }
 },
 "nbformat": 4,
 "nbformat_minor": 2
}
